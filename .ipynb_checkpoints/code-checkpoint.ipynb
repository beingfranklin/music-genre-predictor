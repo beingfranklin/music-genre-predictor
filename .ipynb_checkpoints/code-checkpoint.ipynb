{
 "cells": [
  {
   "cell_type": "code",
   "execution_count": 7,
   "metadata": {},
   "outputs": [
    {
     "data": {
      "text/plain": [
       "array(['HipHop'], dtype=object)"
      ]
     },
     "execution_count": 7,
     "metadata": {},
     "output_type": "execute_result"
    }
   ],
   "source": [
    "import pandas as pd\n",
    "from sklearn.tree import DecisionTreeClassifier\n",
    "from sklearn.model_selection import train_test_split\n",
    "from sklearn.metrics import accuracy_score\n",
    "import joblib \n",
    "\n",
    "# data = pd.read_csv('music.csv')\n",
    "# X = data.drop(columns=['genre'])\n",
    "# y = data['genre']\n",
    "\n",
    "# X_train, X_test, y_train, y_test = train_test_split(X, y , test_size=0.2)\n",
    "\n",
    "\n",
    "# model = DecisionTreeClassifier()\n",
    "# model.fit(X_train,y_train)\n",
    "# model.fit(X,y)\n",
    "\n",
    "# joblib.dump(model,'music-recommender.joblib')\n",
    "joblib.load('music-recommender.joblib')\n",
    "\n",
    "# predictions = model.predict(X_test)\n",
    "predictions = model.predict([[21,1]])\n",
    "# score = accuracy_score(y_test,predictions)\n",
    "\n",
    "predictions\n"
   ]
  },
  {
   "cell_type": "code",
   "execution_count": null,
   "metadata": {},
   "outputs": [],
   "source": []
  },
  {
   "cell_type": "code",
   "execution_count": null,
   "metadata": {},
   "outputs": [],
   "source": []
  },
  {
   "cell_type": "code",
   "execution_count": null,
   "metadata": {},
   "outputs": [],
   "source": []
  },
  {
   "cell_type": "code",
   "execution_count": null,
   "metadata": {},
   "outputs": [],
   "source": []
  }
 ],
 "metadata": {
  "kernelspec": {
   "display_name": "Python 3",
   "language": "python",
   "name": "python3"
  },
  "language_info": {
   "codemirror_mode": {
    "name": "ipython",
    "version": 3
   },
   "file_extension": ".py",
   "mimetype": "text/x-python",
   "name": "python",
   "nbconvert_exporter": "python",
   "pygments_lexer": "ipython3",
   "version": "3.8.5"
  }
 },
 "nbformat": 4,
 "nbformat_minor": 4
}
